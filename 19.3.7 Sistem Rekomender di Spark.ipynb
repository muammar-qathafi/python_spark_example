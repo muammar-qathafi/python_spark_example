{
 "cells": [
  {
   "cell_type": "markdown",
   "metadata": {},
   "source": [
    "# Mengimport modul dan membuat session"
   ]
  },
  {
   "cell_type": "code",
   "execution_count": 1,
   "metadata": {},
   "outputs": [],
   "source": [
    "from pyspark.sql import SparkSession\n",
    "#mengimport modul ALS dari Spark Machine Learning\n",
    "from pyspark.ml.recommendation import ALS\n",
    "\n",
    "#membuat session\n",
    "appName = \"Sistem Rekomender di Spark\"\n",
    "spark = SparkSession \\\n",
    "    .builder \\\n",
    "    .appName(appName) \\\n",
    "    .config(\"spark.some.config.option\", \"some-value\") \\\n",
    "    .getOrCreate()"
   ]
  },
  {
   "cell_type": "markdown",
   "metadata": {},
   "source": [
    "# Memuat data dari file"
   ]
  },
  {
   "cell_type": "code",
   "execution_count": 9,
   "metadata": {},
   "outputs": [
    {
     "name": "stdout",
     "output_type": "stream",
     "text": [
      "+-------+------+------+----------+--------------------+--------------------+\n",
      "|movieId|userId|rating| timestamp|               title|              genres|\n",
      "+-------+------+------+----------+--------------------+--------------------+\n",
      "|     31|     1|   2.5|1260759144|Dangerous Minds (...|               Drama|\n",
      "|   1029|     1|   3.0|1260759179|        Dumbo (1941)|Animation|Childre...|\n",
      "|   1061|     1|   3.0|1260759182|     Sleepers (1996)|            Thriller|\n",
      "|   1129|     1|   2.0|1260759185|Escape from New Y...|Action|Adventure|...|\n",
      "|   1172|     1|   4.0|1260759205|Cinema Paradiso (...|               Drama|\n",
      "|   1263|     1|   2.0|1260759151|Deer Hunter, The ...|           Drama|War|\n",
      "|   1287|     1|   2.0|1260759187|      Ben-Hur (1959)|Action|Adventure|...|\n",
      "|   1293|     1|   2.0|1260759148|       Gandhi (1982)|               Drama|\n",
      "|   1339|     1|   3.5|1260759125|Dracula (Bram Sto...|Fantasy|Horror|Ro...|\n",
      "+-------+------+------+----------+--------------------+--------------------+\n",
      "only showing top 9 rows\n",
      "\n"
     ]
    }
   ],
   "source": [
    "#membuat data file ke DataFrame\n",
    "ratings = spark.read.csv('dataset/ratings.csv', inferSchema=True, header=True)\n",
    "movies = spark.read.csv('dataset/movies.csv', inferSchema=True, header=True)\n",
    "#menggabungkan data movie dan rating berdasarkan \"movieId\"\n",
    "ratings.join(movies, \"movieId\").show(9)"
   ]
  },
  {
   "cell_type": "markdown",
   "metadata": {},
   "source": [
    "# Menyiapkan data"
   ]
  },
  {
   "cell_type": "code",
   "execution_count": 3,
   "metadata": {},
   "outputs": [
    {
     "name": "stdout",
     "output_type": "stream",
     "text": [
      "Jumlah baris data training: 69883 , jumlah baris data testing: 30121\n"
     ]
    }
   ],
   "source": [
    "#memilih kolom data \"userId\", \"movieId\", dan \"rating\"\n",
    "data = ratings.select(\"userId\", \"movieId\", \"rating\")\n",
    "#membagi data, 70% training dan 30% testing\n",
    "splits = data.randomSplit([0.7, 0.3])\n",
    "train = splits[0].withColumnRenamed(\"rating\", \"label\")\n",
    "test = splits[1].withColumnRenamed(\"rating\", \"trueLabel\")\n",
    "#menghitung baris data training dan testing\n",
    "train_rows = train.count()\n",
    "test_rows = test.count()\n",
    "print (\"Jumlah baris data training:\", train_rows, \n",
    "       \", jumlah baris data testing:\", test_rows)"
   ]
  },
  {
   "cell_type": "markdown",
   "metadata": {},
   "source": [
    "# Mendefiniskan model dan mentrainingnya"
   ]
  },
  {
   "cell_type": "code",
   "execution_count": 4,
   "metadata": {},
   "outputs": [
    {
     "name": "stdout",
     "output_type": "stream",
     "text": [
      "Model telah selesai ditraining!\n"
     ]
    }
   ],
   "source": [
    "#mendefinisikan algoritma ALS untuk sistem rekomender kita\n",
    "als = ALS(maxIter=19, regParam=0.01, userCol=\"userId\", \n",
    "          itemCol=\"movieId\", ratingCol=\"label\")\n",
    "#mentraining model dengan fungsi \".fit()\"\n",
    "model = als.fit(train)\n",
    "print(\"Model telah selesai ditraining!\")"
   ]
  },
  {
   "cell_type": "markdown",
   "metadata": {},
   "source": [
    "# Melakukan prediksi dengan model rekomender yang telah kita training"
   ]
  },
  {
   "cell_type": "code",
   "execution_count": 10,
   "metadata": {},
   "outputs": [
    {
     "name": "stdout",
     "output_type": "stream",
     "text": [
      "+------+--------------------------------+----------+---------+\n",
      "|userId|title                           |prediction|trueLabel|\n",
      "+------+--------------------------------+----------+---------+\n",
      "|463   |Galaxy Quest (1999)             |3.7362113 |3.0      |\n",
      "|243   |Men in Black (a.k.a. MIB) (1997)|3.335907  |3.0      |\n",
      "|243   |Children of the Corn (1984)     |2.1835654 |2.0      |\n",
      "|243   |Galaxy Quest (1999)             |3.1352015 |2.5      |\n",
      "+------+--------------------------------+----------+---------+\n",
      "only showing top 4 rows\n",
      "\n"
     ]
    }
   ],
   "source": [
    "prediction = model.transform(test)\n",
    "prediction.join(movies, \"movieId\").select(\n",
    "    \"userId\", \"title\", \"prediction\", \"trueLabel\").show(n=4, truncate=False)"
   ]
  },
  {
   "cell_type": "markdown",
   "metadata": {},
   "source": [
    "# Mengevaluasi seberapa akurat sistem rekomender kita"
   ]
  },
  {
   "cell_type": "code",
   "execution_count": 11,
   "metadata": {},
   "outputs": [
    {
     "name": "stdout",
     "output_type": "stream",
     "text": [
      "Root Mean Square Error (RMSE): nan\n"
     ]
    }
   ],
   "source": [
    "#import RegressionEvaluator karena kita ingin menghitung RMSE\n",
    "#, yg formulanya sama saja meski untuk sistem rekomender\n",
    "from pyspark.ml.evaluation import RegressionEvaluator\n",
    "\n",
    "evaluator = RegressionEvaluator(\n",
    "    labelCol=\"trueLabel\", predictionCol=\"prediction\", metricName=\"rmse\")\n",
    "rmse = evaluator.evaluate(prediction)\n",
    "print (\"Root Mean Square Error (RMSE):\", rmse)"
   ]
  },
  {
   "cell_type": "code",
   "execution_count": 12,
   "metadata": {},
   "outputs": [
    {
     "name": "stdout",
     "output_type": "stream",
     "text": [
      "jumlah baris sebelum di hapus data kosong:  30121\n",
      "jumlah baris setelah di hapus data kosong:  28882\n",
      "jumlah baris data kosong:  1239\n"
     ]
    }
   ],
   "source": [
    "prediction.count()\n",
    "a = prediction.count()\n",
    "print(\"jumlah baris sebelum di hapus data kosong: \", a)\n",
    "cleanPred = prediction.dropna(how=\"any\", subset=[\"prediction\"])\n",
    "b = cleanPred.count()\n",
    "print(\"jumlah baris setelah di hapus data kosong: \", b)\n",
    "print(\"jumlah baris data kosong: \", a-b)"
   ]
  },
  {
   "cell_type": "code",
   "execution_count": 8,
   "metadata": {},
   "outputs": [
    {
     "name": "stdout",
     "output_type": "stream",
     "text": [
      "Root Mean Square Error (RMSE): 1.230282987462192\n"
     ]
    }
   ],
   "source": [
    "rmse = evaluator.evaluate(cleanPred)\n",
    "print (\"Root Mean Square Error (RMSE):\", rmse)"
   ]
  },
  {
   "cell_type": "code",
   "execution_count": null,
   "metadata": {},
   "outputs": [],
   "source": []
  }
 ],
 "metadata": {
  "kernelspec": {
   "display_name": "Python 3 (ipykernel)",
   "language": "python",
   "name": "python3"
  },
  "language_info": {
   "codemirror_mode": {
    "name": "ipython",
    "version": 3
   },
   "file_extension": ".py",
   "mimetype": "text/x-python",
   "name": "python",
   "nbconvert_exporter": "python",
   "pygments_lexer": "ipython3",
   "version": "3.9.13"
  }
 },
 "nbformat": 4,
 "nbformat_minor": 2
}
