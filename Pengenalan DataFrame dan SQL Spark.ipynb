{
 "cells": [
  {
   "cell_type": "code",
   "execution_count": 1,
   "id": "84ab55a9",
   "metadata": {},
   "outputs": [],
   "source": [
    "#import module/package yang dibutuhkan\n",
    "from pyspark.sql import SparkSession\n",
    "from pyspark.sql.types import * "
   ]
  },
  {
   "cell_type": "code",
   "execution_count": 2,
   "id": "7a51b2ef",
   "metadata": {},
   "outputs": [],
   "source": [
    "#membuat session, untuk mengakses semua fungsi spark dan DataFrame API\n",
    "spark = SparkSession \\\n",
    "    .builder \\\n",
    "    .appName(\"Pengenalan DataFrame Spark\") \\\n",
    "    .config(\"spark.some.config.option\", \"some-value\") \\\n",
    "    .getOrCreate()"
   ]
  },
  {
   "cell_type": "code",
   "execution_count": 3,
   "id": "7c1381dc",
   "metadata": {},
   "outputs": [],
   "source": [
    "#mendefinisikan skema dari data yang kita baca\n",
    "purchaseSchema = StructType([\n",
    "    StructField(\"Tanggal\", DateType(), True),\n",
    "    StructField(\"Jam\", StringType(), True),\n",
    "    StructField(\"Kota\", StringType(), True),\n",
    "    StructField(\"Item\", StringType(), True),\n",
    "    StructField(\"Total\", FloatType(), True),\n",
    "    StructField(\"Pembayaran\", StringType(), True)\n",
    "])"
   ]
  },
  {
   "cell_type": "code",
   "execution_count": 4,
   "id": "60138848",
   "metadata": {},
   "outputs": [],
   "source": [
    "#membaca file csv menggunakan skema yang kita buat sebelumnya, dan dengan pemisah kolom \"tab\"(\\t)\n",
    "purchaseDataFrame = spark.read.csv(\n",
    "    \"dataset/purchases.csv\",\n",
    "    header=True, schema=purchaseSchema, sep=\"\\t\")\n"
   ]
  },
  {
   "cell_type": "code",
   "execution_count": 6,
   "id": "9111c464",
   "metadata": {},
   "outputs": [
    {
     "name": "stdout",
     "output_type": "stream",
     "text": [
      "+----------+-----+----------+-------------------+------+----------+\n",
      "|   Tanggal|  Jam|      Kota|               Item| Total|Pembayaran|\n",
      "+----------+-----+----------+-------------------+------+----------+\n",
      "|2012-01-01|09:00|  San Jose|     Men's Clothing|214.05|      Amex|\n",
      "|2012-01-01|09:00|Fort Worth|   Women's Clothing|153.57|      Visa|\n",
      "|2012-01-01|09:00| San Diego|              Music| 66.08|      Cash|\n",
      "|2012-01-01|09:00|Pittsburgh|       Pet Supplies|493.51|  Discover|\n",
      "|2012-01-01|09:00|     Omaha|Children's Clothing|235.63|MasterCard|\n",
      "+----------+-----+----------+-------------------+------+----------+\n",
      "only showing top 5 rows\n",
      "\n"
     ]
    }
   ],
   "source": [
    "#menampilkan 3 baris DataFrame\n",
    "purchaseDataFrame.show(5)"
   ]
  },
  {
   "cell_type": "code",
   "execution_count": null,
   "id": "e214605b",
   "metadata": {},
   "outputs": [],
   "source": []
  }
 ],
 "metadata": {
  "kernelspec": {
   "display_name": "Python 3 (ipykernel)",
   "language": "python",
   "name": "python3"
  },
  "language_info": {
   "codemirror_mode": {
    "name": "ipython",
    "version": 3
   },
   "file_extension": ".py",
   "mimetype": "text/x-python",
   "name": "python",
   "nbconvert_exporter": "python",
   "pygments_lexer": "ipython3",
   "version": "3.9.13"
  }
 },
 "nbformat": 4,
 "nbformat_minor": 5
}
